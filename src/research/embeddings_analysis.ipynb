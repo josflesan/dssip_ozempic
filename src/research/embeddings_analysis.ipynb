{
 "cells": [
  {
   "cell_type": "markdown",
   "id": "76b1b006",
   "metadata": {},
   "source": [
    "### Ozempic Embeddings Analysis\n",
    "\n",
    "The idea of this analysis is to embed text from pop-culture subreddits as well as text from mental health subreddits and compute their centroids. Once this is done, we can embed the top Reddit results for Ozempic, embed them and compare their centroid to these two clusters using cosine similarity. The hypothesis is that Ozempic discussion is largely pop-culture/gossip based and is not really mental-health related. It would also be good to compare the negative versus positive sentiment data."
   ]
  },
  {
   "cell_type": "code",
   "execution_count": null,
   "id": "48b11159",
   "metadata": {},
   "outputs": [],
   "source": [
    "import pandas as pd"
   ]
  }
 ],
 "metadata": {
  "kernelspec": {
   "display_name": "dssip",
   "language": "python",
   "name": "python3"
  },
  "language_info": {
   "name": "python",
   "version": "3.11.11"
  }
 },
 "nbformat": 4,
 "nbformat_minor": 5
}
