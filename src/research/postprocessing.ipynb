{
 "cells": [
  {
   "cell_type": "code",
   "execution_count": 160,
   "id": "0ef44cb5",
   "metadata": {},
   "outputs": [],
   "source": [
    "from collections import Counter\n",
    "\n",
    "from scipy.stats import pearsonr\n",
    "import matplotlib.pyplot as plt\n",
    "import matplotlib.dates as mdates\n",
    "from matplotlib.lines import Line2D\n",
    "import numpy as np\n",
    "import pandas as pd\n",
    "import seaborn as sns\n",
    "import spacy\n",
    "from tqdm.auto import tqdm\n",
    "from statsmodels.tsa.seasonal import seasonal_decompose\n",
    "from statsmodels.graphics.tsaplots import plot_acf, plot_pacf\n",
    "from statsmodels.stats.diagnostic import acorr_ljungbox"
   ]
  },
  {
   "cell_type": "code",
   "execution_count": 131,
   "id": "c0c11869",
   "metadata": {},
   "outputs": [],
   "source": [
    "nlp = spacy.load(\"en_core_web_sm\")\n",
    "tqdm.pandas()"
   ]
  },
  {
   "cell_type": "code",
   "execution_count": 132,
   "id": "41d74868",
   "metadata": {},
   "outputs": [],
   "source": [
    "def pronoun_analysis(df: pd.DataFrame):\n",
    "    \"\"\"\n",
    "    Determines the person used in the text from pronoun analysis. Populates new column\n",
    "    in the dataframe with 1 (first-person), 2 (third-person) or 0 (mixed/undefined)\n",
    "\n",
    "    Args:\n",
    "        df (pd.DataFrame): analysis dataframe\n",
    "    \"\"\"\n",
    "\n",
    "    # Determine person from pronoun analysis\n",
    "    def determine_pronoun(text: str):\n",
    "        if not isinstance(text, str) or len(text.strip()) == 0:\n",
    "            return 0\n",
    "        \n",
    "        doc = nlp(text)\n",
    "        pronoun_counts = Counter()\n",
    "\n",
    "        # Pronoun sets\n",
    "        first_person = {\"i\", \"me\", \"my\", \"mine\", \"we\", \"us\", \"our\", \"ours\"}\n",
    "        third_person = {\"he\", \"him\", \"his\", \"she\", \"her\", \"they\", \"them\", \"their\", \"theirs\", \"it\", \"its\"}\n",
    "        person_threshold_ratio = 1\n",
    "\n",
    "        # Count different first and third person pronouns\n",
    "        for token in doc:\n",
    "            if token.pos_ == \"PRON\":\n",
    "                pronoun = token.text.lower()\n",
    "                if pronoun in first_person:\n",
    "                    pronoun_counts[\"first\"] += 1\n",
    "                elif pronoun in third_person:\n",
    "                    pronoun_counts[\"third\"] += 1\n",
    "\n",
    "        if pronoun_counts[\"first\"] > pronoun_counts[\"third\"] * person_threshold_ratio:\n",
    "            return 1\n",
    "        elif pronoun_counts[\"third\"] > pronoun_counts[\"first\"] * person_threshold_ratio:\n",
    "            return 2\n",
    "        else:\n",
    "            return 0\n",
    "        \n",
    "    df[\"person\"] = df[\"content\"].progress_apply(determine_pronoun)"
   ]
  },
  {
   "cell_type": "code",
   "execution_count": null,
   "id": "14ba088b",
   "metadata": {},
   "outputs": [],
   "source": [
    "def plot_proportion_person(df: pd.DataFrame, out_filename: str, subreddit: str):\n",
    "    \"\"\"Plot proportion of first/third person accounts in positive and negative sentiment posts\"\"\"\n",
    "    \n",
    "    local_df = df[[\"person\", \"sentiment\"]]\n",
    "    local_df = df[df[\"person\"] != 0]  # Remove undefined person rows\n",
    "    positive_first = local_df[(local_df[\"sentiment\"] == \"Positive\") & (local_df[\"person\"] == 1)]\n",
    "    negative_first = local_df[(local_df[\"sentiment\"] == \"Negative\") & (local_df[\"person\"] == 1)]\n",
    "    all_positive = local_df[local_df[\"sentiment\"] == \"Positive\"]\n",
    "    all_negative = local_df[local_df[\"sentiment\"] == \"Negative\"]\n",
    "\n",
    "    prop_df = pd.DataFrame({\n",
    "        \"Sentiment\": [\"Positive\", \"Negative\"],\n",
    "        \"Proportion\": [len(positive_first) / len(all_positive), len(negative_first) / len(all_negative)],\n",
    "        \"Total\": [len(all_positive), len(all_negative)]\n",
    "    })\n",
    "    prop_df[\"first_person\"] = prop_df[\"Proportion\"] * prop_df[\"Total\"]\n",
    "\n",
    "    ax = sns.barplot(prop_df, x=\"Sentiment\", y=\"Total\", color=\"lightblue\")\n",
    "    sns.barplot(prop_df, x=\"Sentiment\", y=\"first_person\", color=\"blue\", ax=ax)\n",
    "    ax.set_ylabel(\"First Person Accounts/Total Accounts\")\n",
    "    \n",
    "    plt.savefig(f\"../../plots/{subreddit}/{out_filename}.png\")"
   ]
  },
  {
   "cell_type": "code",
   "execution_count": 149,
   "id": "f4b1bb03",
   "metadata": {},
   "outputs": [],
   "source": [
    "subreddit = \"loseit\"\n",
    "filename = \"loseit_topall_searchOzempic\"\n",
    "df = pd.read_parquet(\"../../data/reddit/nlp_analysis/loseit_topall_searchOzempic.parquet\")"
   ]
  },
  {
   "cell_type": "code",
   "execution_count": 158,
   "id": "90af65b5",
   "metadata": {},
   "outputs": [
    {
     "name": "stdout",
     "output_type": "stream",
     "text": [
      "I'm not on any meds, but I went through a long journey of healing from binge-eating, and my experience feels really similar, as in, I suddenly discovered that I can feel SATIETY before I'm finished eating. Many things are genuinely too much. I used to get a big tasty at McDonald's for as long as I can remember, and now suddenly I have to only eat half, because otherwise I feel stuffed, and it's unpleasant. Restaurant portions are too big for me very often. I feel like with this new state of things losing weight and keeping it off is just ridiculously easy (kinda). I'm no longer suprised that some people just never have issues with weight if that's how they've been living and feeling their whole lives! Of course I'll skip dinner if I had a big lunch! Eating when I'm not hungry sucks!!! Amazing.\n",
      "Are you in therapy? It might help with a big life change like this. Congratulations on -150 lost!\n",
      "Wow, this is so encouraging to me that people/partners like this actually exist. My ex made fun of/imitated me and was very cruel about my 30lb weight gain after a stressful life period. I ended up gaining even more weight because of the way he handled it which exacerbated my mental health issues and caused me to stress/binge eat more. Now that I’ve dumped that dead weight it’s been much easier to take care of myself and eat healthy. This gives me hope for the future :) maybe I’ll find a lovely supporter some day.\n",
      "I mean no disrespect by this, but where is the pain? \n",
      "\n",
      "You're using food to cope. You're not eating it because you're hungry. You're eating it because you're depressed or anxious. \n",
      "\n",
      "I think counseling would be an excellent place to unpack this. Additionally, is there something else you can do to cope? Journaling? Meditating? Taking a walk? Exercise?\n",
      "I usually have something negative to say but this right here is extremely character building/breaking ! \n",
      "\n",
      "You can either cry and forget all the HARD work you put in OR you can remember how HARD you HAD worked and know that you got it in You. You slipped up and gained SOME weight back. HEY your human it’s okay. \n",
      "\n",
      "Hopefully you’ve seen enough comments to realize that it is OKAY to let yourself go but now it’s TIME to get BACK on track like you did BEFORE. i believe in you\n"
     ]
    }
   ],
   "source": [
    "min_score = df[\"mh_score\"].min()\n",
    "max_score = df[\"mh_score\"].max()\n",
    "\n",
    "# Avoid division by zero if all values are the same\n",
    "if max_score > min_score:\n",
    "    df[\"mh_score_norm\"] = (df[\"mh_score\"] - min_score) / (max_score - min_score)\n",
    "else:\n",
    "    df[\"mh_score_norm\"] = 0.0  # or any constant, since all values are equal\n",
    "\n",
    "\n",
    "count = 0\n",
    "\n",
    "for index, row in df.iterrows():\n",
    "    if count == 5:\n",
    "        break\n",
    "    if row[\"mh_score_norm\"] > 0.9:\n",
    "        print(row[\"content\"])\n",
    "        count += 1\n"
   ]
  },
  {
   "cell_type": "code",
   "execution_count": 154,
   "id": "32bdb438",
   "metadata": {},
   "outputs": [
    {
     "data": {
      "text/plain": [
       "1413"
      ]
     },
     "execution_count": 154,
     "metadata": {},
     "output_type": "execute_result"
    }
   ],
   "source": [
    "len(df[df[\"person\"] == 2])"
   ]
  },
  {
   "cell_type": "code",
   "execution_count": 151,
   "id": "6e7a07bb",
   "metadata": {},
   "outputs": [
    {
     "data": {
      "image/png": "[encoded data removed]",
      "text/plain": [
       "<Figure size 640x480 with 1 Axes>"
      ]
     },
     "metadata": {},
     "output_type": "display_data"
    }
   ],
   "source": [
    "plot_proportion_person(df, filename, subreddit)"
   ]
  },
  {
   "cell_type": "code",
   "execution_count": 136,
   "id": "2dd36036",
   "metadata": {},
   "outputs": [
    {
     "data": {
      "application/vnd.jupyter.widget-view+json": {
       "model_id": "07752ffcf3764f7a9a16f4a4b2f12d95",
       "version_major": 2,
       "version_minor": 0
      },
      "text/plain": [
       "  0%|          | 0/6806 [00:00<?, ?it/s]"
      ]
     },
     "metadata": {},
     "output_type": "display_data"
    }
   ],
   "source": [
    "pronoun_analysis(df)"
   ]
  },
  {
   "cell_type": "code",
   "execution_count": 137,
   "id": "9e8a7354",
   "metadata": {},
   "outputs": [
    {
     "data": {
      "text/plain": [
       "1611"
      ]
     },
     "execution_count": 137,
     "metadata": {},
     "output_type": "execute_result"
    }
   ],
   "source": [
    "len(df[df[\"person\"] == 2])"
   ]
  },
  {
   "cell_type": "code",
   "execution_count": 138,
   "id": "4a7d84b8",
   "metadata": {},
   "outputs": [
    {
     "data": {
      "image/png": "[encoded data removed]",
      "text/plain": [
       "<Figure size 640x480 with 1 Axes>"
      ]
     },
     "metadata": {},
     "output_type": "display_data"
    }
   ],
   "source": [
    "plot_proportion_person(df, filename, subreddit)"
   ]
  },
  {
   "cell_type": "code",
   "execution_count": null,
   "id": "430bacef",
   "metadata": {},
   "outputs": [
    {
     "name": "stdout",
     "output_type": "stream",
     "text": [
      "Correlation: 0.052\n",
      "P-Value: 1.615e-05\n"
     ]
    }
   ],
   "source": [
    "df[\"is_negative\"] = (df[\"sentiment\"] == \"Negative\").astype(int)\n",
    "df[\"is_thirdperson\"] = (df[\"person\"] == 2).astype(int)\n",
    "\n",
    "corr, p_value = pearsonr(df[\"is_negative\"], df[\"is_thirdperson\"])\n",
    "\n",
    "print(f\"Correlation: {corr:.3f}\")\n",
    "print(f\"P-Value: {p_value:.3e}\")"
   ]
  },
  {
   "cell_type": "code",
   "execution_count": null,
   "id": "de7f4e1d",
   "metadata": {},
   "outputs": [],
   "source": []
  }
 ],
 "metadata": {
  "kernelspec": {
   "display_name": "dssip",
   "language": "python",
   "name": "python3"
  },
  "language_info": {
   "codemirror_mode": {
    "name": "ipython",
    "version": 3
   },
   "file_extension": ".py",
   "mimetype": "text/x-python",
   "name": "python",
   "nbconvert_exporter": "python",
   "pygments_lexer": "ipython3",
   "version": "3.11.11"
  }
 },
 "nbformat": 4,
 "nbformat_minor": 5
}
