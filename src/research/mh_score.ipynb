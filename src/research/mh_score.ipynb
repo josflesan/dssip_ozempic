{
 "cells": [
  {
   "cell_type": "code",
   "execution_count": 2,
   "id": "161ad07a",
   "metadata": {},
   "outputs": [],
   "source": [
    "import numpy as np\n",
    "from sentence_transformers import SentenceTransformer\n",
    "from ekphrasis.classes.preprocessor import TextPreProcessor\n",
    "from ekphrasis.dicts.emoticons import emoticons"
   ]
  },
  {
   "cell_type": "code",
   "execution_count": 3,
   "id": "f4208a38",
   "metadata": {},
   "outputs": [
    {
     "name": "stdout",
     "output_type": "stream",
     "text": [
      "Reading english - 1grams ...\n"
     ]
    },
    {
     "name": "stderr",
     "output_type": "stream",
     "text": [
      "/home/joflesan/miniconda3/envs/dssip/lib/python3.11/site-packages/ekphrasis/classes/exmanager.py:14: FutureWarning: Possible nested set at position 42\n",
      "  regexes = {k.lower(): re.compile(self.expressions[k]) for k, v in\n"
     ]
    }
   ],
   "source": [
    "model = SentenceTransformer(\"all-MiniLM-L6-v2\")\n",
    "text_processor = TextPreProcessor(\n",
    "    normalize=[\"url\", \"email\", \"percent\", \"money\", \"phone\", \"user\",\n",
    "               \"time\", \"url\", \"date\", \"number\"],\n",
    "    fix_html=True,\n",
    "    corrector=\"english\",\n",
    "    segmenter=\"twitter\",\n",
    "    dicts=[emoticons]\n",
    ")"
   ]
  },
  {
   "cell_type": "code",
   "execution_count": 4,
   "id": "576afee6",
   "metadata": {},
   "outputs": [],
   "source": [
    "mh_embedding = np.load(\"../embeddings/mh_avg_embedding.npy\")"
   ]
  },
  {
   "cell_type": "code",
   "execution_count": 5,
   "id": "f15752c5",
   "metadata": {},
   "outputs": [],
   "source": [
    "def compute_mh_score_lm(post: str, mh_embedding: np.array, lm):\n",
    "    # Compute sentence embedding\n",
    "    doc = text_processor.pre_process_doc(post)\n",
    "    curr_embedding = lm.encode(doc)\n",
    "\n",
    "    # Compute cosine similarity between post vector and MH vector\n",
    "    cosine_sim = np.dot(curr_embedding, mh_embedding) / (np.linalg.norm(curr_embedding) * np.linalg.norm(mh_embedding) + 1e-10)\n",
    "\n",
    "    return cosine_sim\n"
   ]
  },
  {
   "cell_type": "code",
   "execution_count": 15,
   "id": "a1391b29",
   "metadata": {},
   "outputs": [
    {
     "data": {
      "text/plain": [
       "np.float32(0.3435995)"
      ]
     },
     "execution_count": 15,
     "metadata": {},
     "output_type": "execute_result"
    }
   ],
   "source": [
    "compute_mh_score_lm(\"My stomach is so bloated I hate the way it looks\", mh_embedding, model)"
   ]
  },
  {
   "cell_type": "code",
   "execution_count": null,
   "id": "01209dd7",
   "metadata": {},
   "outputs": [],
   "source": []
  }
 ],
 "metadata": {
  "kernelspec": {
   "display_name": "dssip",
   "language": "python",
   "name": "python3"
  },
  "language_info": {
   "codemirror_mode": {
    "name": "ipython",
    "version": 3
   },
   "file_extension": ".py",
   "mimetype": "text/x-python",
   "name": "python",
   "nbconvert_exporter": "python",
   "pygments_lexer": "ipython3",
   "version": "3.11.11"
  }
 },
 "nbformat": 4,
 "nbformat_minor": 5
}
